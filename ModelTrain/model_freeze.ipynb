{
 "cells": [
  {
   "cell_type": "code",
   "execution_count": 1,
   "metadata": {},
   "outputs": [
    {
     "name": "stderr",
     "output_type": "stream",
     "text": [
      "C:\\Users\\gxs160730\\AppData\\Local\\Continuum\\anaconda3\\lib\\site-packages\\h5py\\__init__.py:36: FutureWarning: Conversion of the second argument of issubdtype from `float` to `np.floating` is deprecated. In future, it will be treated as `np.float64 == np.dtype(float).type`.\n",
      "  from ._conv import register_converters as _register_converters\n"
     ]
    }
   ],
   "source": [
    "import sklearn\n",
    "import numpy as np\n",
    "from scipy import io\n",
    "import tensorflow as tf\n",
    "import os\n",
    "import time\n",
    "import h5py\n",
    "import matplotlib.pyplot as plt\n",
    "from sklearn.metrics import mean_squared_error\n",
    "from sklearn.metrics import mean_absolute_error\n",
    "import math"
   ]
  },
  {
   "cell_type": "code",
   "execution_count": 2,
   "metadata": {},
   "outputs": [],
   "source": [
    "from tensorflow.python.tools import freeze_graph"
   ]
  },
  {
   "cell_type": "code",
   "execution_count": null,
   "metadata": {},
   "outputs": [],
   "source": [
    "# input_graph_path = os.path.join('/Users/ssprl/Documents/Gautam/GBs CNN SE/CNN MODELS/full_model_300_TIH_0_DR_00_BS_500_real', \"graph.pbtxt\")\n",
    "# input_saver_def_path = \"\"\n",
    "# input_binary = False\n",
    "# output_node_names = \"output_t\"\n",
    "# restore_op_name = \"save/restore_all\"\n",
    "# filename_tensor_name = \"save/Const:0\"\n",
    "# output_graph_path = os.path.join(self.get_temp_dir(), 'frozentensorflowModel.pb')\n",
    "# clear_devices = False\n",
    "# input_meta_graph = checkpoint_meta_graph_file\n"
   ]
  },
  {
   "cell_type": "code",
   "execution_count": 3,
   "metadata": {},
   "outputs": [
    {
     "name": "stdout",
     "output_type": "stream",
     "text": [
      "INFO:tensorflow:Restoring parameters from /Users/ssprl/Documents/Gautam/GBs CNN SE/CNN MODELS/full_model_300_TIH_0_DR_00_BS_500_real/model11/model\n",
      "INFO:tensorflow:Froze 10 variables.\n",
      "INFO:tensorflow:Converted 10 variables to const ops.\n"
     ]
    }
   ],
   "source": [
    "freeze_graph.freeze_graph('/Users/ssprl/Documents/Gautam/GBs CNN SE/CNN MODELS/full_model_300_TIH_0_DR_00_BS_500_real/graph.pbtxt', \"\", False, \n",
    "                          '/Users/ssprl/Documents/Gautam/GBs CNN SE/CNN MODELS/full_model_300_TIH_0_DR_00_BS_500_real/model11/model', \"output_t\",\n",
    "                           \"save/restore_all\", \"save/Const:0\",\n",
    "                           'frozentensorflowModel_1.pb', True, \"\"  \n",
    "                         )"
   ]
  },
  {
   "cell_type": "code",
   "execution_count": 5,
   "metadata": {},
   "outputs": [
    {
     "name": "stdout",
     "output_type": "stream",
     "text": [
      "INFO:tensorflow:Restoring parameters from C:\\Users\\gxs160730\\Documents\\Ph.D\\Siren_Noise\\Python models\\full_model_M0_LPS\\model19\\model\n",
      "INFO:tensorflow:Froze 10 variables.\n",
      "INFO:tensorflow:Converted 10 variables to const ops.\n"
     ]
    }
   ],
   "source": [
    "freeze_graph.freeze_graph(r'C:\\Users\\gxs160730\\Documents\\Ph.D\\Siren_Noise\\Python models\\full_model_M0_LPS\\graph.pbtxt', \"\", False, \n",
    "                          r'C:\\Users\\gxs160730\\Documents\\Ph.D\\Siren_Noise\\Python models\\full_model_M0_LPS\\model19\\model', \"output_t\",\n",
    "                           \"save\\restore_all\", \"save\\Const:0\",\n",
    "                           'frozentensorflowSirenModel_oldTF.pb', True, \"\"  \n",
    "                         )"
   ]
  },
  {
   "cell_type": "code",
   "execution_count": null,
   "metadata": {},
   "outputs": [],
   "source": []
  }
 ],
 "metadata": {
  "kernelspec": {
   "display_name": "Python 3",
   "language": "python",
   "name": "python3"
  },
  "language_info": {
   "codemirror_mode": {
    "name": "ipython",
    "version": 3
   },
   "file_extension": ".py",
   "mimetype": "text/x-python",
   "name": "python",
   "nbconvert_exporter": "python",
   "pygments_lexer": "ipython3",
   "version": "3.7.3"
  }
 },
 "nbformat": 4,
 "nbformat_minor": 2
}
