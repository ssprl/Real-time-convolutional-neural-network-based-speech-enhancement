{
 "cells": [
  {
   "cell_type": "code",
   "execution_count": 1,
   "metadata": {},
   "outputs": [
    {
     "name": "stderr",
     "output_type": "stream",
     "text": [
      "/anaconda3/lib/python3.6/importlib/_bootstrap.py:219: RuntimeWarning: compiletime version 3.5 of module 'tensorflow.python.framework.fast_tensor_util' does not match runtime version 3.6\n",
      "  return f(*args, **kwds)\n",
      "/anaconda3/lib/python3.6/site-packages/h5py/__init__.py:36: FutureWarning: Conversion of the second argument of issubdtype from `float` to `np.floating` is deprecated. In future, it will be treated as `np.float64 == np.dtype(float).type`.\n",
      "  from ._conv import register_converters as _register_converters\n"
     ]
    }
   ],
   "source": [
    "import sklearn\n",
    "import numpy as np\n",
    "from scipy import io\n",
    "import tensorflow as tf\n",
    "import os\n",
    "import time\n",
    "import h5py\n",
    "import matplotlib.pyplot as plt\n",
    "from sklearn.metrics import mean_squared_error\n",
    "from sklearn.metrics import mean_absolute_error\n",
    "import math"
   ]
  },
  {
   "cell_type": "code",
   "execution_count": 4,
   "metadata": {},
   "outputs": [],
   "source": [
    "test_file = h5py.File('/Users/ssprl/Desktop/Hint-5_features.mat')"
   ]
  },
  {
   "cell_type": "code",
   "execution_count": 5,
   "metadata": {
    "scrolled": true
   },
   "outputs": [
    {
     "name": "stdout",
     "output_type": "stream",
     "text": [
      "Data Shape  (739, 129, 11)\n",
      "Labels Shape (739, 129)\n"
     ]
    }
   ],
   "source": [
    "data =  np.transpose(test_file['trainingData'].value, axes=(2,1,0))\n",
    "\n",
    "labels =  np.transpose(test_file['trainingLabels'].value)\n",
    "# i=0\n",
    "# data = data[i:i+1,:, :]\n",
    "# labels = labels[i:i+1]\n",
    "print(\"Data Shape \", data.shape)\n",
    "print(\"Labels Shape\", labels.shape)\n"
   ]
  },
  {
   "cell_type": "markdown",
   "metadata": {},
   "source": [
    " ## 1st MODEL BS 50 DR 00 "
   ]
  },
  {
   "cell_type": "code",
   "execution_count": null,
   "metadata": {},
   "outputs": [],
   "source": [
    "# import numpy as np\n",
    "# sess=tf.Session()   \n",
    "\n",
    "# #First let's load meta graph and restore weights\n",
    "# saver = tf.train.import_meta_graph('/Users/ssprl/Documents/Gautam/Tensorflow-Bootcamp-master/03-Convolutional-Neural-Networks/test_model/model0/model.meta')\n",
    "# saver.restore(sess,tf.train.latest_checkpoint('/Users/ssprl/Documents/Gautam/Tensorflow-Bootcamp-master/03-Convolutional-Neural-Networks/test_model/model0/'))\n",
    "\n",
    "# graph = tf.get_default_graph()\n",
    "# x = graph.get_tensor_by_name (\"x-input:0\")\n",
    "\n",
    "# y_true = graph.get_tensor_by_name (\"y-input:0\")\n",
    "\n",
    "# y_pred = graph.get_tensor_by_name(\"output_t:0\")\n",
    "\n",
    "# # cross_entropy = graph.get_tensor_by_name(\"loss:0\")\n",
    "# #keep_prob = graph.get_tensor_by_name(\"keep_prob:0\")\n",
    "\n",
    "# x_batch = data\n",
    "# feed =  {x: x_batch}\n",
    "# #feed =  {x: x_batch, keep_prob =1.0}\n",
    "\n",
    "# prediction  = sess.run([y_pred], feed_dict=feed)"
   ]
  },
  {
   "cell_type": "code",
   "execution_count": null,
   "metadata": {},
   "outputs": [],
   "source": [
    "# y_pred1=np.array(prediction)\n",
    "# # print(y_pred1.shape)\n",
    "# y_pred1.shape\n",
    "# import numpy, scipy.io\n",
    "# arr = y_pred1.reshape((176, 129))  \n",
    "# scipy.io.savemat('/Users/ssprl/Documents/MATLAB/CNN feature extraction/FIO_TH_H1_pred', mdict={'Y': arr})"
   ]
  },
  {
   "cell_type": "code",
   "execution_count": null,
   "metadata": {},
   "outputs": [],
   "source": [
    "data.shape"
   ]
  },
  {
   "cell_type": "markdown",
   "metadata": {},
   "source": [
    "## 3RD MODEL BS 500 DR 00\n"
   ]
  },
  {
   "cell_type": "code",
   "execution_count": 6,
   "metadata": {},
   "outputs": [
    {
     "name": "stdout",
     "output_type": "stream",
     "text": [
      "INFO:tensorflow:Restoring parameters from /Users/ssprl/Documents/Gautam/GBs CNN SE/CNN MODELS/full_model_FIO_TI_0_DR_00_BS_500/model11/model\n"
     ]
    }
   ],
   "source": [
    "import numpy as np\n",
    "sess=tf.Session()   \n",
    "\n",
    "#First let's load meta graph and restore weights\n",
    "saver = tf.train.import_meta_graph('/Users/ssprl/Documents/Gautam/GBs CNN SE/CNN MODELS/full_model_FIO_TI_0_DR_00_BS_500/model11/model.meta')\n",
    "saver.restore(sess,tf.train.latest_checkpoint('/Users/ssprl/Documents/Gautam/GBs CNN SE/CNN MODELS/full_model_FIO_TI_0_DR_00_BS_500/model11'))\n",
    "\n",
    "graph = tf.get_default_graph()\n",
    "x = graph.get_tensor_by_name (\"x-input:0\")\n",
    "\n",
    "y_true = graph.get_tensor_by_name (\"y-input:0\")\n",
    "\n",
    "y_pred = graph.get_tensor_by_name(\"output_t:0\")\n",
    "\n",
    "# cross_entropy = graph.get_tensor_by_name(\"loss:0\")\n",
    "\n",
    "x_batch = data\n",
    "\n",
    "feed =  {x: x_batch}\n",
    "\n",
    "prediction  = sess.run([y_pred], feed_dict=feed)"
   ]
  },
  {
   "cell_type": "code",
   "execution_count": 7,
   "metadata": {},
   "outputs": [
    {
     "name": "stdout",
     "output_type": "stream",
     "text": [
      "(1, 739, 129)\n"
     ]
    }
   ],
   "source": [
    "y_pred1=np.array(prediction)\n",
    "print(y_pred1.shape)\n",
    "\n",
    "import numpy, scipy.io\n",
    "arr = y_pred1.reshape((739, 129))  \n",
    "scipy.io.savemat('/Users/ssprl/Documents/MATLAB/X1', mdict={'Y1': arr})"
   ]
  },
  {
   "cell_type": "code",
   "execution_count": null,
   "metadata": {},
   "outputs": [],
   "source": [
    "43*4*78"
   ]
  },
  {
   "cell_type": "code",
   "execution_count": null,
   "metadata": {},
   "outputs": [],
   "source": []
  }
 ],
 "metadata": {
  "kernelspec": {
   "display_name": "Python 3",
   "language": "python",
   "name": "python3"
  },
  "language_info": {
   "codemirror_mode": {
    "name": "ipython",
    "version": 3
   },
   "file_extension": ".py",
   "mimetype": "text/x-python",
   "name": "python",
   "nbconvert_exporter": "python",
   "pygments_lexer": "ipython3",
   "version": "3.7.3"
  }
 },
 "nbformat": 4,
 "nbformat_minor": 2
}
